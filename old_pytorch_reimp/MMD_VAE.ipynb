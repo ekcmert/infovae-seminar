{
  "nbformat": 4,
  "nbformat_minor": 0,
  "metadata": {
    "colab": {
      "name": "GitHub MMDVAE.ipynb",
      "provenance": []
    },
    "kernelspec": {
      "name": "python3",
      "display_name": "Python 3"
    },
    "accelerator": "GPU"
  },
  "cells": [
    {
      "cell_type": "code",
      "metadata": {
        "id": "nANrQrj-cy7g",
        "colab_type": "code",
        "colab": {
          "base_uri": "https://localhost:8080/",
          "height": 121
        },
        "outputId": "25fb037b-ea65-4f2f-96d5-55dc24620470"
      },
      "source": [
        "from google.colab import drive\n",
        "drive.mount('/gdrive')"
      ],
      "execution_count": 1,
      "outputs": [
        {
          "output_type": "stream",
          "text": [
            "Go to this URL in a browser: https://accounts.google.com/o/oauth2/auth?client_id=947318989803-6bn6qk8qdgf4n4g3pfee6491hc0brc4i.apps.googleusercontent.com&redirect_uri=urn%3aietf%3awg%3aoauth%3a2.0%3aoob&response_type=code&scope=email%20https%3a%2f%2fwww.googleapis.com%2fauth%2fdocs.test%20https%3a%2f%2fwww.googleapis.com%2fauth%2fdrive%20https%3a%2f%2fwww.googleapis.com%2fauth%2fdrive.photos.readonly%20https%3a%2f%2fwww.googleapis.com%2fauth%2fpeopleapi.readonly\n",
            "\n",
            "Enter your authorization code:\n",
            "··········\n",
            "Mounted at /gdrive\n"
          ],
          "name": "stdout"
        }
      ]
    },
    {
      "cell_type": "code",
      "metadata": {
        "id": "NAcz8BdYdbM0",
        "colab_type": "code",
        "colab": {}
      },
      "source": [
        "import torch\n",
        "from torch import nn, optim\n",
        "from torch.utils.data import DataLoader\n",
        "from torch.nn import functional as F\n",
        "from torchvision import datasets, transforms\n",
        "from torchvision.utils import save_image\n",
        "\n",
        "import numpy as np"
      ],
      "execution_count": 0,
      "outputs": []
    },
    {
      "cell_type": "code",
      "metadata": {
        "id": "57wWjvCdo7BQ",
        "colab_type": "code",
        "colab": {}
      },
      "source": [
        "%matplotlib inline\n",
        "import matplotlib.pyplot as plt\n",
        "\n",
        "def show(img):\n",
        "    '''\n",
        "        Helper Function to show images, must convert from GPU tensor to\n",
        "        CPU ndarray first through img.cpu().detach().numpy()\n",
        "    '''\n",
        "    plt.figure()\n",
        "    plt.imshow(img, cmap = 'gray')"
      ],
      "execution_count": 0,
      "outputs": []
    },
    {
      "cell_type": "code",
      "metadata": {
        "id": "zUqAMOcypL23",
        "colab_type": "code",
        "colab": {}
      },
      "source": [
        "USE_CUDA = True\n",
        "DEVICE   = ('cuda' if USE_CUDA else 'cpu')"
      ],
      "execution_count": 0,
      "outputs": []
    },
    {
      "cell_type": "code",
      "metadata": {
        "id": "rG4vROBypQgy",
        "colab_type": "code",
        "colab": {}
      },
      "source": [
        "SEED = 123\n",
        "BATCH_SIZE = 128\n",
        "\n",
        "LATENT_SIZE = 4"
      ],
      "execution_count": 0,
      "outputs": []
    },
    {
      "cell_type": "code",
      "metadata": {
        "id": "DqAY_Kb-pTTU",
        "colab_type": "code",
        "colab": {}
      },
      "source": [
        "torch.manual_seed(SEED)\n",
        "\n",
        "datapath = \"/gdrive/My Drive/workspace/MMD_VAE\"\n",
        "localpath = '/content'"
      ],
      "execution_count": 0,
      "outputs": []
    },
    {
      "cell_type": "code",
      "metadata": {
        "id": "lfCN38UcqCs6",
        "colab_type": "code",
        "colab": {}
      },
      "source": [
        "import os\n",
        "os.chdir(datapath)"
      ],
      "execution_count": 0,
      "outputs": []
    },
    {
      "cell_type": "markdown",
      "metadata": {
        "id": "Q3c5r3eoqQjl",
        "colab_type": "text"
      },
      "source": [
        "# MMD Objective using Gaussian Kernel"
      ]
    },
    {
      "cell_type": "code",
      "metadata": {
        "id": "RFooGaFlpu3Q",
        "colab_type": "code",
        "colab": {}
      },
      "source": [
        "def gaussian_kernel(a, b):\n",
        "    dim1_1, dim1_2 = a.shape[0], b.shape[0]\n",
        "    depth = a.shape[1]\n",
        "    a = a.view(dim1_1, 1, depth)\n",
        "    b = b.view(1, dim1_2, depth)\n",
        "    a_core = a.expand(dim1_1, dim1_2, depth)\n",
        "    b_core = b.expand(dim1_1, dim1_2, depth)\n",
        "    numerator = (a_core - b_core).pow(2).mean(2)/depth\n",
        "    return torch.exp(-numerator)\n",
        "\n",
        "def MMD(a, b):\n",
        "    return gaussian_kernel(a, a).mean() + gaussian_kernel(b, b).mean() - 2*gaussian_kernel(a, b).mean()"
      ],
      "execution_count": 0,
      "outputs": []
    },
    {
      "cell_type": "code",
      "metadata": {
        "id": "d_N8_Tpyy8MJ",
        "colab_type": "code",
        "colab": {}
      },
      "source": [
        "def loss_function(pred, true, latent):\n",
        "    return (pred-true).pow(2).mean(), MMD(torch.randn(200, LATENT_SIZE, requires_grad = False).to(DEVICE), latent)"
      ],
      "execution_count": 0,
      "outputs": []
    },
    {
      "cell_type": "markdown",
      "metadata": {
        "id": "oo80tLkMqtSY",
        "colab_type": "text"
      },
      "source": [
        "# Loading MNIST data, can substitute here for other data."
      ]
    },
    {
      "cell_type": "code",
      "metadata": {
        "id": "6jDxxmm2qO_u",
        "colab_type": "code",
        "colab": {
          "base_uri": "https://localhost:8080/",
          "height": 252
        },
        "outputId": "b91e410a-abfd-4386-f597-62ea7c5467b3"
      },
      "source": [
        "train = datasets.MNIST('data', train = True , transform = transforms.ToTensor(), download = True)\n",
        "test  = datasets.MNIST('data', train = False, transform = transforms.ToTensor(), download = True)"
      ],
      "execution_count": 11,
      "outputs": [
        {
          "output_type": "stream",
          "text": [
            "\r0it [00:00, ?it/s]"
          ],
          "name": "stderr"
        },
        {
          "output_type": "stream",
          "text": [
            "Downloading http://yann.lecun.com/exdb/mnist/train-images-idx3-ubyte.gz to data/MNIST/raw/train-images-idx3-ubyte.gz\n"
          ],
          "name": "stdout"
        },
        {
          "output_type": "stream",
          "text": [
            "9920512it [00:01, 8601583.31it/s]                            \n"
          ],
          "name": "stderr"
        },
        {
          "output_type": "stream",
          "text": [
            "Extracting data/MNIST/raw/train-images-idx3-ubyte.gz to data/MNIST/raw\n"
          ],
          "name": "stdout"
        },
        {
          "output_type": "stream",
          "text": [
            "  0%|          | 0/28881 [00:00<?, ?it/s]"
          ],
          "name": "stderr"
        },
        {
          "output_type": "stream",
          "text": [
            "Downloading http://yann.lecun.com/exdb/mnist/train-labels-idx1-ubyte.gz to data/MNIST/raw/train-labels-idx1-ubyte.gz\n"
          ],
          "name": "stdout"
        },
        {
          "output_type": "stream",
          "text": [
            "32768it [00:00, 127490.13it/s]           \n",
            "  0%|          | 0/1648877 [00:00<?, ?it/s]"
          ],
          "name": "stderr"
        },
        {
          "output_type": "stream",
          "text": [
            "Extracting data/MNIST/raw/train-labels-idx1-ubyte.gz to data/MNIST/raw\n",
            "Downloading http://yann.lecun.com/exdb/mnist/t10k-images-idx3-ubyte.gz to data/MNIST/raw/t10k-images-idx3-ubyte.gz\n"
          ],
          "name": "stdout"
        },
        {
          "output_type": "stream",
          "text": [
            "1654784it [00:00, 2103192.32it/s]                            \n",
            "0it [00:00, ?it/s]"
          ],
          "name": "stderr"
        },
        {
          "output_type": "stream",
          "text": [
            "Extracting data/MNIST/raw/t10k-images-idx3-ubyte.gz to data/MNIST/raw\n",
            "Downloading http://yann.lecun.com/exdb/mnist/t10k-labels-idx1-ubyte.gz to data/MNIST/raw/t10k-labels-idx1-ubyte.gz\n"
          ],
          "name": "stdout"
        },
        {
          "output_type": "stream",
          "text": [
            "8192it [00:00, 48930.44it/s]            \n"
          ],
          "name": "stderr"
        },
        {
          "output_type": "stream",
          "text": [
            "Extracting data/MNIST/raw/t10k-labels-idx1-ubyte.gz to data/MNIST/raw\n",
            "Processing...\n",
            "Done!\n"
          ],
          "name": "stdout"
        }
      ]
    },
    {
      "cell_type": "code",
      "metadata": {
        "id": "NaA6TlmZq94N",
        "colab_type": "code",
        "colab": {}
      },
      "source": [
        "# Converting from integer to float, also to DEVICE (CPU or GPU)\n",
        "\n",
        "train = train.data.float().to(DEVICE)/256\n",
        "test  = test.data.float().to(DEVICE)/256"
      ],
      "execution_count": 0,
      "outputs": []
    },
    {
      "cell_type": "code",
      "metadata": {
        "id": "cdOc7SxXt1h8",
        "colab_type": "code",
        "colab": {}
      },
      "source": [
        "train_loader = DataLoader(\n",
        "    dataset = train,\n",
        "    batch_size = BATCH_SIZE,\n",
        "    shuffle = True\n",
        ")\n",
        "\n",
        "test_loader = DataLoader(\n",
        "    dataset = test,\n",
        "    batch_size = BATCH_SIZE,\n",
        "    shuffle = True\n",
        ")"
      ],
      "execution_count": 0,
      "outputs": []
    },
    {
      "cell_type": "markdown",
      "metadata": {
        "id": "rIEmyrVgxjXM",
        "colab_type": "text"
      },
      "source": [
        "# VAE architecture\n"
      ]
    },
    {
      "cell_type": "code",
      "metadata": {
        "id": "10P7HnAEt7u7",
        "colab_type": "code",
        "colab": {}
      },
      "source": [
        "class Reshape(nn.Module):\n",
        "    '''\n",
        "        Used in a nn.Sequential pipeline to reshape on the fly.\n",
        "    '''\n",
        "    def __init__(self, *target_shape):\n",
        "        super().__init__()\n",
        "        self.target_shape = target_shape\n",
        "    \n",
        "    def forward(self, x):\n",
        "        return x.view(*self.target_shape)"
      ],
      "execution_count": 0,
      "outputs": []
    },
    {
      "cell_type": "code",
      "metadata": {
        "id": "oY5H_HAAxfGu",
        "colab_type": "code",
        "colab": {}
      },
      "source": [
        "class MMD_VAE(nn.Module):\n",
        "    def __init__(self):\n",
        "        super().__init__()\n",
        "        self.encoder = nn.Sequential(\n",
        "            nn.Conv2d(in_channels = 1, out_channels = 5, kernel_size = 5, padding = 2), #1*28*28 -> 5*28*28\n",
        "            nn.LeakyReLU(),\n",
        "            nn.Conv2d(in_channels = 5, out_channels = 5, kernel_size = 5), #5*28*28 -> 5*24*24\n",
        "            nn.LeakyReLU(),\n",
        "            nn.Conv2d(in_channels = 5, out_channels = 5, kernel_size = 5), #5*24*24 -> 5*20*20\n",
        "            nn.LeakyReLU(),\n",
        "            Reshape([-1,5*20*20]),\n",
        "            nn.Linear(in_features = 5*20*20, out_features = 5*12),\n",
        "            nn.LeakyReLU(),\n",
        "            nn.Linear(in_features = 5*12, out_features = LATENT_SIZE)\n",
        "        )\n",
        "\n",
        "        self.decoder = nn.Sequential(\n",
        "            nn.Linear(in_features = LATENT_SIZE, out_features = 5*12),\n",
        "            nn.ReLU(),\n",
        "            nn.Linear(in_features = 5*12, out_features = 24*24),\n",
        "            nn.ReLU(),\n",
        "            Reshape([-1,1,24,24]),\n",
        "            nn.ConvTranspose2d(in_channels = 1, out_channels = 5, kernel_size = 3), #1*24*24 -> 5*26*26\n",
        "            nn.ReLU(),\n",
        "            nn.ConvTranspose2d(in_channels = 5, out_channels = 10, kernel_size = 5), #5*26*26 -> 10*30*30\n",
        "            nn.ReLU(),\n",
        "            nn.Conv2d(in_channels = 10, out_channels = 1, kernel_size = 3), #10*30*30 -> 1*28*28\n",
        "            nn.Sigmoid()\n",
        "        )\n",
        "    \n",
        "    def forward(self, X):\n",
        "        if self.training:\n",
        "            latent = self.encoder(X)\n",
        "            return self.decoder(latent), latent\n",
        "        else:\n",
        "            return self.decoder( self.encoder(X) )"
      ],
      "execution_count": 0,
      "outputs": []
    },
    {
      "cell_type": "markdown",
      "metadata": {
        "id": "WBfEvnB-zQn3",
        "colab_type": "text"
      },
      "source": [
        "# Training loop\n"
      ]
    },
    {
      "cell_type": "code",
      "metadata": {
        "id": "Ww2f9LXdzP7x",
        "colab_type": "code",
        "colab": {}
      },
      "source": [
        "def train(net, learning_rate, epochs, train_loader, test_loader, optimizer = 'Adam'):\n",
        "    if optimizer == 'Adam':\n",
        "        optimizer = optim.Adam(net.parameters(), lr = learning_rate)\n",
        "    elif optimizer == 'SGD':\n",
        "        optimizer = optim.SGD(net.parameters(), lr = learning_rate, \n",
        "                              momentum = .95, nesterov = True)\n",
        "    \n",
        "    for epoch in range(epochs):\n",
        "        training_loss = 0\n",
        "        training_reconstruction_error = 0\n",
        "        training_mmd = 0\n",
        "\n",
        "        net.train()\n",
        "        for batchnum, X in enumerate(train_loader):\n",
        "            optimizer.zero_grad()\n",
        "\n",
        "            X = X.reshape(-1, 1, 28, 28)\n",
        "            reconstruction, mu = net(X)\n",
        "            reconstruction_error, mmd = loss_function(reconstruction, X, mu)\n",
        "            loss = reconstruction_error + mmd\n",
        "            loss.backward()\n",
        "            \n",
        "            optimizer.step()\n",
        "\n",
        "            training_reconstruction_error += reconstruction_error\n",
        "            training_mmd  += mmd\n",
        "            training_loss += loss\n",
        "\n",
        "        training_reconstruction_error /= (batchnum+1)\n",
        "        training_mmd  /= (batchnum+1)\n",
        "        training_loss /= (batchnum+1)\n",
        "        print('Training loss for epoch %i is %.8f, Reconstruction is %.8f, mmd is %.8f'%(epoch, training_loss, training_reconstruction_error, training_mmd) )\n",
        "        \n",
        "        #Testing loop\n",
        "\n",
        "        testing_reconstruction_error = 0\n",
        "        testing_mmd = 0\n",
        "\n",
        "        with torch.no_grad():\n",
        "            for batchnum, X in enumerate(test_loader):\n",
        "                X = X.reshape(-1, 1, 28, 28)\n",
        "                reconstruction, mu = net(X)\n",
        "                reconstruction_error, mmd = loss_function(reconstruction, X, mu)\n",
        "\n",
        "                testing_reconstruction_error += reconstruction_error\n",
        "                testing_mmd += mmd\n",
        "            \n",
        "            testing_reconstruction_error /= (batchnum+1)\n",
        "            testing_mmd /= (batchnum+1)\n",
        "            print('Testing loss for epoch %i is %.8f, Reconstruction is %.8f, mmd is %.8f'%(epoch, testing_reconstruction_error + testing_mmd, testing_reconstruction_error, testing_mmd) )\n",
        "        "
      ],
      "execution_count": 0,
      "outputs": []
    },
    {
      "cell_type": "markdown",
      "metadata": {
        "id": "TX-FlDNn3R6Z",
        "colab_type": "text"
      },
      "source": [
        "# Training net, extracting samples"
      ]
    },
    {
      "cell_type": "code",
      "metadata": {
        "id": "aufk6V-53QaJ",
        "colab_type": "code",
        "colab": {}
      },
      "source": [
        "net = MMD_VAE().to('cuda')"
      ],
      "execution_count": 0,
      "outputs": []
    },
    {
      "cell_type": "code",
      "metadata": {
        "id": "ZO1PjqLV3YV6",
        "colab_type": "code",
        "colab": {
          "base_uri": "https://localhost:8080/",
          "height": 1000
        },
        "outputId": "d5a64154-5166-47df-a1d9-57f0b90f4b84"
      },
      "source": [
        "train(net, learning_rate = .0001, epochs = 30,\n",
        "      train_loader = train_loader, test_loader = test_loader)"
      ],
      "execution_count": 23,
      "outputs": [
        {
          "output_type": "stream",
          "text": [
            "Training loss for epoch 0 is 0.19385393, Reconstruction is 0.13172628, mmd is 0.06212759\n",
            "Testing loss for epoch 0 is 0.14777656, Reconstruction is 0.08665911, mmd is 0.06111745\n",
            "Training loss for epoch 1 is 0.10895792, Reconstruction is 0.07370204, mmd is 0.03525600\n",
            "Testing loss for epoch 1 is 0.07598224, Reconstruction is 0.06375752, mmd is 0.01222472\n",
            "Training loss for epoch 2 is 0.06605402, Reconstruction is 0.05689355, mmd is 0.00916045\n",
            "Testing loss for epoch 2 is 0.05972357, Reconstruction is 0.05239603, mmd is 0.00732754\n",
            "Training loss for epoch 3 is 0.05559016, Reconstruction is 0.04971901, mmd is 0.00587115\n",
            "Testing loss for epoch 3 is 0.05237744, Reconstruction is 0.04650369, mmd is 0.00587375\n",
            "Training loss for epoch 4 is 0.04928217, Reconstruction is 0.04373658, mmd is 0.00554562\n",
            "Testing loss for epoch 4 is 0.04639298, Reconstruction is 0.04144757, mmd is 0.00494540\n",
            "Training loss for epoch 5 is 0.04636785, Reconstruction is 0.04090912, mmd is 0.00545874\n",
            "Testing loss for epoch 5 is 0.04596392, Reconstruction is 0.03968226, mmd is 0.00628166\n",
            "Training loss for epoch 6 is 0.04460763, Reconstruction is 0.03942687, mmd is 0.00518077\n",
            "Testing loss for epoch 6 is 0.04503673, Reconstruction is 0.03865685, mmd is 0.00637988\n",
            "Training loss for epoch 7 is 0.04353781, Reconstruction is 0.03839182, mmd is 0.00514602\n",
            "Testing loss for epoch 7 is 0.04289079, Reconstruction is 0.03754784, mmd is 0.00534295\n",
            "Training loss for epoch 8 is 0.04288404, Reconstruction is 0.03753865, mmd is 0.00534539\n",
            "Testing loss for epoch 8 is 0.04228975, Reconstruction is 0.03667690, mmd is 0.00561285\n",
            "Training loss for epoch 9 is 0.04207911, Reconstruction is 0.03682851, mmd is 0.00525061\n",
            "Testing loss for epoch 9 is 0.04144329, Reconstruction is 0.03597725, mmd is 0.00546604\n",
            "Training loss for epoch 10 is 0.04095214, Reconstruction is 0.03621797, mmd is 0.00473415\n",
            "Testing loss for epoch 10 is 0.04055914, Reconstruction is 0.03550602, mmd is 0.00505312\n",
            "Training loss for epoch 11 is 0.04059325, Reconstruction is 0.03565396, mmd is 0.00493928\n",
            "Testing loss for epoch 11 is 0.04049232, Reconstruction is 0.03525254, mmd is 0.00523978\n",
            "Training loss for epoch 12 is 0.04031980, Reconstruction is 0.03518846, mmd is 0.00513134\n",
            "Testing loss for epoch 12 is 0.03963392, Reconstruction is 0.03455165, mmd is 0.00508226\n",
            "Training loss for epoch 13 is 0.03980625, Reconstruction is 0.03473941, mmd is 0.00506686\n",
            "Testing loss for epoch 13 is 0.04008294, Reconstruction is 0.03433414, mmd is 0.00574881\n",
            "Training loss for epoch 14 is 0.03921483, Reconstruction is 0.03434088, mmd is 0.00487394\n",
            "Testing loss for epoch 14 is 0.03865170, Reconstruction is 0.03388667, mmd is 0.00476504\n",
            "Training loss for epoch 15 is 0.03890534, Reconstruction is 0.03399870, mmd is 0.00490664\n",
            "Testing loss for epoch 15 is 0.03897959, Reconstruction is 0.03369562, mmd is 0.00528397\n",
            "Training loss for epoch 16 is 0.03863714, Reconstruction is 0.03368797, mmd is 0.00494917\n",
            "Testing loss for epoch 16 is 0.03906610, Reconstruction is 0.03329025, mmd is 0.00577585\n",
            "Training loss for epoch 17 is 0.03831868, Reconstruction is 0.03337868, mmd is 0.00494001\n",
            "Testing loss for epoch 17 is 0.03850363, Reconstruction is 0.03307204, mmd is 0.00543159\n",
            "Training loss for epoch 18 is 0.03799077, Reconstruction is 0.03310002, mmd is 0.00489077\n",
            "Testing loss for epoch 18 is 0.03904043, Reconstruction is 0.03264733, mmd is 0.00639310\n",
            "Training loss for epoch 19 is 0.03767901, Reconstruction is 0.03287343, mmd is 0.00480558\n",
            "Testing loss for epoch 19 is 0.03854332, Reconstruction is 0.03268432, mmd is 0.00585900\n",
            "Training loss for epoch 20 is 0.03754423, Reconstruction is 0.03263126, mmd is 0.00491300\n",
            "Testing loss for epoch 20 is 0.03806991, Reconstruction is 0.03227483, mmd is 0.00579507\n",
            "Training loss for epoch 21 is 0.03734480, Reconstruction is 0.03243361, mmd is 0.00491122\n",
            "Testing loss for epoch 21 is 0.03732562, Reconstruction is 0.03205541, mmd is 0.00527021\n",
            "Training loss for epoch 22 is 0.03714880, Reconstruction is 0.03220871, mmd is 0.00494006\n",
            "Testing loss for epoch 22 is 0.03714899, Reconstruction is 0.03198150, mmd is 0.00516749\n",
            "Training loss for epoch 23 is 0.03729685, Reconstruction is 0.03206942, mmd is 0.00522745\n",
            "Testing loss for epoch 23 is 0.03664205, Reconstruction is 0.03173119, mmd is 0.00491086\n",
            "Training loss for epoch 24 is 0.03681190, Reconstruction is 0.03189202, mmd is 0.00491985\n",
            "Testing loss for epoch 24 is 0.03707741, Reconstruction is 0.03161540, mmd is 0.00546201\n",
            "Training loss for epoch 25 is 0.03687865, Reconstruction is 0.03173070, mmd is 0.00514794\n",
            "Testing loss for epoch 25 is 0.03740442, Reconstruction is 0.03156289, mmd is 0.00584153\n",
            "Training loss for epoch 26 is 0.03645014, Reconstruction is 0.03156111, mmd is 0.00488903\n",
            "Testing loss for epoch 26 is 0.03691293, Reconstruction is 0.03138850, mmd is 0.00552443\n",
            "Training loss for epoch 27 is 0.03655364, Reconstruction is 0.03143688, mmd is 0.00511674\n",
            "Testing loss for epoch 27 is 0.03728323, Reconstruction is 0.03141900, mmd is 0.00586423\n",
            "Training loss for epoch 28 is 0.03624703, Reconstruction is 0.03130988, mmd is 0.00493716\n",
            "Testing loss for epoch 28 is 0.03624224, Reconstruction is 0.03098374, mmd is 0.00525850\n",
            "Training loss for epoch 29 is 0.03597355, Reconstruction is 0.03113874, mmd is 0.00483480\n",
            "Testing loss for epoch 29 is 0.03616565, Reconstruction is 0.03092346, mmd is 0.00524219\n"
          ],
          "name": "stdout"
        }
      ]
    },
    {
      "cell_type": "markdown",
      "metadata": {
        "id": "hdDTwp1z5GYN",
        "colab_type": "text"
      },
      "source": [
        "## Extracting samples"
      ]
    },
    {
      "cell_type": "markdown",
      "metadata": {
        "id": "BheKqbQh8lLY",
        "colab_type": "text"
      },
      "source": [
        "One way to visualize the latent space is below. We can only visualize up to 2 dimensions, but often have a higher dimensional latent space. \n",
        "\n",
        "First, we sample from a ```LATENT_SIZE-2``` dimensional Isotropic Gaussian once, and duplicate it so that we have 64 of them. We now have 64 base vectors. We then create a grid by permuting two axes together. Each axis spans from [-1,1] and has 8 evenly spaced points, so we have a grand total of 64 2-dimensional points. We then stack the 64 2-dimensional points with the 64 base vectors to get a 2d grid of points in possibly higher dimensional latent space.\n",
        "\n",
        "```sample_from_latent()``` has the procedure to use the function ```get_sampling_grid()``` if a custom grid is wanted."
      ]
    },
    {
      "cell_type": "code",
      "metadata": {
        "id": "1cxHNLYh5b-V",
        "colab_type": "code",
        "colab": {}
      },
      "source": [
        "from itertools import product\n",
        "\n",
        "#Manages device/graph status/type handling\n",
        "def from_latent(net, vec):\n",
        "    with torch.no_grad():\n",
        "        net.eval()\n",
        "        return net.decoder( torch.tensor(vec).to(DEVICE).float() ).cpu().detach().numpy().reshape(28,28)\n",
        "\n",
        "def get_sampling_grid(net, grid):\n",
        "    base = torch.randn(LATENT_SIZE-2)\n",
        "    image = torch.tensor([])\n",
        "    for vec in grid:\n",
        "        image = torch.cat([image, torch.from_numpy(from_latent(net, np.hstack([vec, base]) ) ) ] )\n",
        "    return image.view(64,1,28,28)\n",
        "\n",
        "def sample_from_latent(net, save = True, location = 'grid.png'):\n",
        "    grid = list(product(np.linspace(-1,1,8), np.linspace(-1,1,8) ) )\n",
        "    results = get_sampling_grid(net, grid)\n",
        "    if save:\n",
        "        save_image(results, location)\n",
        "    return results\n",
        "\n",
        "from torchvision.utils import make_grid\n",
        "def show_image_grid(results):\n",
        "    img = make_grid(results, nrow = 8)\n",
        "    plt.imshow(img.permute(1,2,0) )"
      ],
      "execution_count": 0,
      "outputs": []
    },
    {
      "cell_type": "markdown",
      "metadata": {
        "id": "JO75BktAMcxz",
        "colab_type": "text"
      },
      "source": [
        "This saves an 8x8 grid of samples using the method in the text box above. The default location is the current working directory + grid.png\n",
        "\n",
        "It also outputs it in the display box."
      ]
    },
    {
      "cell_type": "code",
      "metadata": {
        "id": "7J9j7rHO5yaI",
        "colab_type": "code",
        "colab": {
          "base_uri": "https://localhost:8080/",
          "height": 269
        },
        "outputId": "976f7c8a-f9de-4f62-cb0c-ca14aa4304c1"
      },
      "source": [
        "sampled_images = sample_from_latent(net, save = False)\n",
        "\n",
        "show_image_grid(sampled_images)"
      ],
      "execution_count": 84,
      "outputs": [
        {
          "output_type": "display_data",
          "data": {
            "image/png": "[encoded data removed]",
            "text/plain": [
              "<Figure size 432x288 with 1 Axes>"
            ]
          },
          "metadata": {
            "tags": []
          }
        }
      ]
    }
  ]
}